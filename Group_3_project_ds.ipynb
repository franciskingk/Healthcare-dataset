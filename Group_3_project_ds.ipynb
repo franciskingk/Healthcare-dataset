{
  "nbformat": 4,
  "nbformat_minor": 0,
  "metadata": {
    "accelerator": "GPU",
    "colab": {
      "name": "Group_3_project_ds.ipynb",
      "provenance": [],
      "collapsed_sections": [],
      "toc_visible": true,
      "include_colab_link": true
    },
    "kernelspec": {
      "display_name": "Python 3",
      "name": "python3"
    },
    "language_info": {
      "name": "python"
    }
  },
  "cells": [
    {
      "cell_type": "markdown",
      "metadata": {
        "id": "view-in-github",
        "colab_type": "text"
      },
      "source": [
        "<a href=\"https://colab.research.google.com/github/franciskingk/Healthcare-dataset/blob/main/Group_3_project_ds.ipynb\" target=\"_parent\"><img src=\"https://colab.research.google.com/assets/colab-badge.svg\" alt=\"Open In Colab\"/></a>"
      ]
    },
    {
      "cell_type": "markdown",
      "metadata": {
        "id": "qD29zAwIEcrw"
      },
      "source": [
        "**DS11 Group 4 Data science Project Proposal**"
      ]
    },
    {
      "cell_type": "markdown",
      "metadata": {
        "id": "UZxHRM5ZErHK"
      },
      "source": [
        "\n",
        "A RESEARCH PROPOSAL SUBMITTED TO MORINGA SCHOOL IN PARTIAL FULFILMENT OF THE REQUIREMENT FOR THE COMPLETION OF THE PREP MODULE IN DATA SCIENCE.\n",
        "AUGUST 2021\n"
      ]
    },
    {
      "cell_type": "markdown",
      "metadata": {
        "id": "s5bomYRn1Vu_"
      },
      "source": [
        "\n",
        "\n",
        "**Objectives**\n",
        "\n",
        "To show allocation of healthcare workers per capita across the country\n",
        "\n",
        "To find out how much Kenyans spend on healthcare on average  annually per    capita?\n",
        "\n",
        "To find out the distribution of health centers across the country i.e Level 5 Hospitals, Level 4 hospitals, Level 3 hospitals, Level 2 and Health dispensaries in the counties across the country\n",
        "\n",
        "To find out the budgetary allocation by GoK towards healthcare, determine gaps and give recommendations for the same\n",
        "\n",
        "To find the relationship between Healthcare expenditure and Economic performance\n",
        "Distribution of hospital expenditure Per Capita by hospitals in Kenya\n",
        "\n",
        "Correlation between Kenya and world standards SDGs with regards to the budget allocation to healthcare\n",
        "\n",
        "\n",
        "\n",
        "\n",
        "\n",
        "\n",
        "\n",
        "\n",
        "\n",
        "\n",
        "\n"
      ]
    },
    {
      "cell_type": "markdown",
      "metadata": {
        "id": "pysldmI6AWAr"
      },
      "source": [
        "Links to the datasets : \n",
        "\n"
      ]
    },
    {
      "cell_type": "code",
      "metadata": {
        "id": "EBAj1WgGo4vx"
      },
      "source": [
        "# Importing the pandas and numpy\n",
        "\n",
        "import pandas as pd\n",
        "import numpy as np\n",
        "import matplotlib.pyplot as plt\n",
        "import seaborn as sns"
      ],
      "execution_count": null,
      "outputs": []
    },
    {
      "cell_type": "code",
      "metadata": {
        "colab": {
          "base_uri": "https://localhost:8080/",
          "height": 517
        },
        "id": "e8Ruz_NVN5wk",
        "outputId": "4a02b793-aab2-4162-c7f2-30e3d5289efe"
      },
      "source": [
        "#uploading the dataset\n",
        "from google.colab import files\n",
        "files.upload()"
      ],
      "execution_count": null,
      "outputs": []
    },
    {
      "cell_type": "code",
      "metadata": {
        "id": "u91NRo93Ld1Y",
        "colab": {
          "base_uri": "https://localhost:8080/",
          "height": 479
        },
        "outputId": "f4173146-215f-47f0-e05b-c0a63fea185d"
      },
      "source": [
        "# load datasets list of hospitals and number of beds.\n",
        "df= pd.read_csv(\"/content/List of hospitals and number of beds - Kenya 2020.csv\")\n",
        "df.head()"
      ],
      "execution_count": null,
      "outputs": [
        {
          "output_type": "execute_result",
          "data": {
            "text/html": [
              "<div>\n",
              "<style scoped>\n",
              "    .dataframe tbody tr th:only-of-type {\n",
              "        vertical-align: middle;\n",
              "    }\n",
              "\n",
              "    .dataframe tbody tr th {\n",
              "        vertical-align: top;\n",
              "    }\n",
              "\n",
              "    .dataframe thead th {\n",
              "        text-align: right;\n",
              "    }\n",
              "</style>\n",
              "<table border=\"1\" class=\"dataframe\">\n",
              "  <thead>\n",
              "    <tr style=\"text-align: right;\">\n",
              "      <th></th>\n",
              "      <th>Code</th>\n",
              "      <th>Name</th>\n",
              "      <th>Officialname</th>\n",
              "      <th>Registration_number</th>\n",
              "      <th>Keph level</th>\n",
              "      <th>Facility type</th>\n",
              "      <th>Facility_type_category</th>\n",
              "      <th>Owner</th>\n",
              "      <th>Owner type</th>\n",
              "      <th>Regulatory body</th>\n",
              "      <th>Beds</th>\n",
              "      <th>Cots</th>\n",
              "      <th>Beds and Cots</th>\n",
              "      <th>County</th>\n",
              "      <th>Constituency</th>\n",
              "      <th>Sub county</th>\n",
              "      <th>Ward</th>\n",
              "      <th>Operation status</th>\n",
              "      <th>Open_whole_day</th>\n",
              "      <th>Open_public_holidays</th>\n",
              "      <th>Open_weekends</th>\n",
              "      <th>Open_late_night</th>\n",
              "      <th>Service_names</th>\n",
              "      <th>Approved</th>\n",
              "      <th>Public visible</th>\n",
              "      <th>Closed</th>\n",
              "    </tr>\n",
              "  </thead>\n",
              "  <tbody>\n",
              "    <tr>\n",
              "      <th>0</th>\n",
              "      <td>25720</td>\n",
              "      <td>Itete Dispensary</td>\n",
              "      <td>Itete Dispensary</td>\n",
              "      <td>1245</td>\n",
              "      <td>Level 2</td>\n",
              "      <td>Dispensary</td>\n",
              "      <td>DISPENSARY</td>\n",
              "      <td>Ministry of Health</td>\n",
              "      <td>Ministry of Health</td>\n",
              "      <td>Ministry of Health</td>\n",
              "      <td>8</td>\n",
              "      <td>3</td>\n",
              "      <td>11</td>\n",
              "      <td>Kakamega</td>\n",
              "      <td>Matungu</td>\n",
              "      <td>Matungu</td>\n",
              "      <td>Koyonzo</td>\n",
              "      <td>Operational</td>\n",
              "      <td>No</td>\n",
              "      <td>No</td>\n",
              "      <td>No</td>\n",
              "      <td>No</td>\n",
              "      <td>NaN</td>\n",
              "      <td>Yes</td>\n",
              "      <td>Yes</td>\n",
              "      <td>No</td>\n",
              "    </tr>\n",
              "    <tr>\n",
              "      <th>1</th>\n",
              "      <td>25722</td>\n",
              "      <td>Penda Medical Center - Mathare North</td>\n",
              "      <td>Penda Medical Center - Mathare North</td>\n",
              "      <td>17345</td>\n",
              "      <td>Level 3</td>\n",
              "      <td>Medical Center</td>\n",
              "      <td>MEDICAL CENTER</td>\n",
              "      <td>Private Practice - Private Company</td>\n",
              "      <td>Private Practice</td>\n",
              "      <td>Kenya MPDB</td>\n",
              "      <td>0</td>\n",
              "      <td>0</td>\n",
              "      <td>0</td>\n",
              "      <td>Nairobi</td>\n",
              "      <td>Ruaraka</td>\n",
              "      <td>Ruaraka</td>\n",
              "      <td>Mathare North</td>\n",
              "      <td>Operational</td>\n",
              "      <td>No</td>\n",
              "      <td>Yes</td>\n",
              "      <td>Yes</td>\n",
              "      <td>No</td>\n",
              "      <td>NaN</td>\n",
              "      <td>Yes</td>\n",
              "      <td>Yes</td>\n",
              "      <td>No</td>\n",
              "    </tr>\n",
              "    <tr>\n",
              "      <th>2</th>\n",
              "      <td>None</td>\n",
              "      <td>Mukavakava</td>\n",
              "      <td>Mukavakava</td>\n",
              "      <td>None</td>\n",
              "      <td>Level 2</td>\n",
              "      <td>Dispensary</td>\n",
              "      <td>DISPENSARY</td>\n",
              "      <td>Ministry of Health</td>\n",
              "      <td>Ministry of Health</td>\n",
              "      <td>Ministry of Health</td>\n",
              "      <td>0</td>\n",
              "      <td>1</td>\n",
              "      <td>1</td>\n",
              "      <td>Kakamega</td>\n",
              "      <td>Malava</td>\n",
              "      <td>Malava</td>\n",
              "      <td>Butali/Chegulo</td>\n",
              "      <td>Operational</td>\n",
              "      <td>No</td>\n",
              "      <td>No</td>\n",
              "      <td>No</td>\n",
              "      <td>No</td>\n",
              "      <td>NaN</td>\n",
              "      <td>Yes</td>\n",
              "      <td>Yes</td>\n",
              "      <td>No</td>\n",
              "    </tr>\n",
              "    <tr>\n",
              "      <th>3</th>\n",
              "      <td>None</td>\n",
              "      <td>Nchurra Dispensary</td>\n",
              "      <td>Nchurra Dispensary</td>\n",
              "      <td>None</td>\n",
              "      <td>Level 2</td>\n",
              "      <td>Dispensary</td>\n",
              "      <td>DISPENSARY</td>\n",
              "      <td>Ministry of Health</td>\n",
              "      <td>Ministry of Health</td>\n",
              "      <td>Ministry of Health</td>\n",
              "      <td>0</td>\n",
              "      <td>0</td>\n",
              "      <td>0</td>\n",
              "      <td>Narok</td>\n",
              "      <td>Narok South</td>\n",
              "      <td>Narok South</td>\n",
              "      <td>Melelo</td>\n",
              "      <td>Operational</td>\n",
              "      <td>No</td>\n",
              "      <td>No</td>\n",
              "      <td>No</td>\n",
              "      <td>No</td>\n",
              "      <td>NaN</td>\n",
              "      <td>Yes</td>\n",
              "      <td>Yes</td>\n",
              "      <td>No</td>\n",
              "    </tr>\n",
              "    <tr>\n",
              "      <th>4</th>\n",
              "      <td>None</td>\n",
              "      <td>Upland Health Care Center</td>\n",
              "      <td>Upland Health Care Center</td>\n",
              "      <td>None</td>\n",
              "      <td>Level 2</td>\n",
              "      <td>Medical Clinic</td>\n",
              "      <td>MEDICAL CLINIC</td>\n",
              "      <td>Private Practice - Nurse / Midwifery</td>\n",
              "      <td>Private Practice</td>\n",
              "      <td>None</td>\n",
              "      <td>0</td>\n",
              "      <td>0</td>\n",
              "      <td>0</td>\n",
              "      <td>Kirinyaga</td>\n",
              "      <td>Kirinyaga Central</td>\n",
              "      <td>Kirinyaga Central</td>\n",
              "      <td>Kerugoya</td>\n",
              "      <td>Operational</td>\n",
              "      <td>No</td>\n",
              "      <td>Yes</td>\n",
              "      <td>Yes</td>\n",
              "      <td>Yes</td>\n",
              "      <td>NaN</td>\n",
              "      <td>Yes</td>\n",
              "      <td>Yes</td>\n",
              "      <td>No</td>\n",
              "    </tr>\n",
              "  </tbody>\n",
              "</table>\n",
              "</div>"
            ],
            "text/plain": [
              "    Code                                  Name  ... Public visible Closed\n",
              "0  25720                      Itete Dispensary  ...            Yes     No\n",
              "1  25722  Penda Medical Center - Mathare North  ...            Yes     No\n",
              "2   None                            Mukavakava  ...            Yes     No\n",
              "3   None                    Nchurra Dispensary  ...            Yes     No\n",
              "4   None             Upland Health Care Center  ...            Yes     No\n",
              "\n",
              "[5 rows x 26 columns]"
            ]
          },
          "metadata": {
            "tags": []
          },
          "execution_count": 3
        }
      ]
    },
    {
      "cell_type": "code",
      "metadata": {
        "colab": {
          "base_uri": "https://localhost:8080/",
          "height": 669
        },
        "id": "P7bd6RcTYczA",
        "outputId": "a0c82084-fb63-4c38-ff18-431bbf7c47a3"
      },
      "source": [
        "#kenyan gdp dataset in terms of years\n",
        "our_gdp =pd.read_csv('/content/Annual GDP.csv')\n",
        "our_gdp"
      ],
      "execution_count": 136,
      "outputs": [
        {
          "output_type": "execute_result",
          "data": {
            "text/html": [
              "<div>\n",
              "<style scoped>\n",
              "    .dataframe tbody tr th:only-of-type {\n",
              "        vertical-align: middle;\n",
              "    }\n",
              "\n",
              "    .dataframe tbody tr th {\n",
              "        vertical-align: top;\n",
              "    }\n",
              "\n",
              "    .dataframe thead th {\n",
              "        text-align: right;\n",
              "    }\n",
              "</style>\n",
              "<table border=\"1\" class=\"dataframe\">\n",
              "  <thead>\n",
              "    <tr style=\"text-align: right;\">\n",
              "      <th></th>\n",
              "      <th>Year</th>\n",
              "      <th>Nominal GDP prices Ksh Million</th>\n",
              "      <th>Annual GDP growth %</th>\n",
              "      <th>Real GDP prices Ksh Million</th>\n",
              "    </tr>\n",
              "  </thead>\n",
              "  <tbody>\n",
              "    <tr>\n",
              "      <th>0</th>\n",
              "      <td>2019</td>\n",
              "      <td>9740360</td>\n",
              "      <td>5.4</td>\n",
              "      <td>5049686</td>\n",
              "    </tr>\n",
              "    <tr>\n",
              "      <th>1</th>\n",
              "      <td>2018</td>\n",
              "      <td>8892111</td>\n",
              "      <td>6.3</td>\n",
              "      <td>4792174</td>\n",
              "    </tr>\n",
              "    <tr>\n",
              "      <th>2</th>\n",
              "      <td>2017</td>\n",
              "      <td>8165842</td>\n",
              "      <td>4.8</td>\n",
              "      <td>4507377</td>\n",
              "    </tr>\n",
              "    <tr>\n",
              "      <th>3</th>\n",
              "      <td>2016</td>\n",
              "      <td>7022963</td>\n",
              "      <td>5.9</td>\n",
              "      <td>4300699</td>\n",
              "    </tr>\n",
              "    <tr>\n",
              "      <th>4</th>\n",
              "      <td>2015</td>\n",
              "      <td>6284185</td>\n",
              "      <td>5.7</td>\n",
              "      <td>4061901</td>\n",
              "    </tr>\n",
              "    <tr>\n",
              "      <th>5</th>\n",
              "      <td>2014</td>\n",
              "      <td>5402647</td>\n",
              "      <td>5.4</td>\n",
              "      <td>3842186</td>\n",
              "    </tr>\n",
              "    <tr>\n",
              "      <th>6</th>\n",
              "      <td>2013</td>\n",
              "      <td>4745090</td>\n",
              "      <td>5.9</td>\n",
              "      <td>3646821</td>\n",
              "    </tr>\n",
              "    <tr>\n",
              "      <th>7</th>\n",
              "      <td>2012</td>\n",
              "      <td>4261370</td>\n",
              "      <td>4.6</td>\n",
              "      <td>3444339</td>\n",
              "    </tr>\n",
              "    <tr>\n",
              "      <th>8</th>\n",
              "      <td>2011</td>\n",
              "      <td>3725918</td>\n",
              "      <td>6.1</td>\n",
              "      <td>3294026</td>\n",
              "    </tr>\n",
              "    <tr>\n",
              "      <th>9</th>\n",
              "      <td>2010</td>\n",
              "      <td>3169300</td>\n",
              "      <td>8.4</td>\n",
              "      <td>3104303</td>\n",
              "    </tr>\n",
              "    <tr>\n",
              "      <th>10</th>\n",
              "      <td>2009</td>\n",
              "      <td>2863690</td>\n",
              "      <td>2.7</td>\n",
              "      <td>2863689</td>\n",
              "    </tr>\n",
              "    <tr>\n",
              "      <th>11</th>\n",
              "      <td>2008</td>\n",
              "      <td>2107589</td>\n",
              "      <td>1.5</td>\n",
              "      <td>1357262</td>\n",
              "    </tr>\n",
              "    <tr>\n",
              "      <th>12</th>\n",
              "      <td>2007</td>\n",
              "      <td>1833511</td>\n",
              "      <td>6.9</td>\n",
              "      <td>1336849</td>\n",
              "    </tr>\n",
              "    <tr>\n",
              "      <th>13</th>\n",
              "      <td>2006</td>\n",
              "      <td>1622565</td>\n",
              "      <td>6.5</td>\n",
              "      <td>1249470</td>\n",
              "    </tr>\n",
              "    <tr>\n",
              "      <th>14</th>\n",
              "      <td>2005</td>\n",
              "      <td>1415823</td>\n",
              "      <td>5.7</td>\n",
              "      <td>1172784</td>\n",
              "    </tr>\n",
              "    <tr>\n",
              "      <th>15</th>\n",
              "      <td>2004</td>\n",
              "      <td>1274328</td>\n",
              "      <td>5.1</td>\n",
              "      <td>1109338</td>\n",
              "    </tr>\n",
              "    <tr>\n",
              "      <th>16</th>\n",
              "      <td>2003</td>\n",
              "      <td>1131783</td>\n",
              "      <td>2.9</td>\n",
              "      <td>1055658</td>\n",
              "    </tr>\n",
              "    <tr>\n",
              "      <th>17</th>\n",
              "      <td>2002</td>\n",
              "      <td>1035374</td>\n",
              "      <td>0.5</td>\n",
              "      <td>1025583</td>\n",
              "    </tr>\n",
              "    <tr>\n",
              "      <th>18</th>\n",
              "      <td>2001</td>\n",
              "      <td>1020022</td>\n",
              "      <td>3.8</td>\n",
              "      <td>1020111</td>\n",
              "    </tr>\n",
              "    <tr>\n",
              "      <th>19</th>\n",
              "      <td>2000</td>\n",
              "      <td>967838</td>\n",
              "      <td>0.0</td>\n",
              "      <td>982855</td>\n",
              "    </tr>\n",
              "  </tbody>\n",
              "</table>\n",
              "</div>"
            ],
            "text/plain": [
              "    Year  ...  Real GDP prices Ksh Million\n",
              "0   2019  ...                      5049686\n",
              "1   2018  ...                      4792174\n",
              "2   2017  ...                      4507377\n",
              "3   2016  ...                      4300699\n",
              "4   2015  ...                      4061901\n",
              "5   2014  ...                      3842186\n",
              "6   2013  ...                      3646821\n",
              "7   2012  ...                      3444339\n",
              "8   2011  ...                      3294026\n",
              "9   2010  ...                      3104303\n",
              "10  2009  ...                      2863689\n",
              "11  2008  ...                      1357262\n",
              "12  2007  ...                      1336849\n",
              "13  2006  ...                      1249470\n",
              "14  2005  ...                      1172784\n",
              "15  2004  ...                      1109338\n",
              "16  2003  ...                      1055658\n",
              "17  2002  ...                      1025583\n",
              "18  2001  ...                      1020111\n",
              "19  2000  ...                       982855\n",
              "\n",
              "[20 rows x 4 columns]"
            ]
          },
          "metadata": {},
          "execution_count": 136
        }
      ]
    },
    {
      "cell_type": "code",
      "metadata": {
        "id": "VFFNXDs-w7Ki"
      },
      "source": [
        "#percentage allocation to health\n",
        "gdp_health= pd.read_excel('/content/percentage_of_gdp_alocated_to_healt.xlsx')\n"
      ],
      "execution_count": 143,
      "outputs": []
    },
    {
      "cell_type": "code",
      "metadata": {
        "colab": {
          "base_uri": "https://localhost:8080/"
        },
        "id": "OPIkFoYCKsFV",
        "outputId": "04bb95c0-45ed-4fc3-ab4c-e562735f0fa4"
      },
      "source": [
        "#The correlation between Kenya and world standards in the budget allocation to healthcare expenditure.\n",
        "gdp_health.info()"
      ],
      "execution_count": 92,
      "outputs": [
        {
          "output_type": "stream",
          "text": [
            "<class 'pandas.core.frame.DataFrame'>\n",
            "RangeIndex: 27 entries, 0 to 26\n",
            "Data columns (total 25 columns):\n",
            " #   Column          Non-Null Count  Dtype  \n",
            "---  ------          --------------  -----  \n",
            " 0   Country Name    27 non-null     object \n",
            " 1   Country Code    27 non-null     object \n",
            " 2   Indicator Name  27 non-null     object \n",
            " 3   Indicator Code  27 non-null     object \n",
            " 4   2000yr          25 non-null     float64\n",
            " 5   2001yr          25 non-null     float64\n",
            " 6   2002yr          25 non-null     float64\n",
            " 7   2003yr          26 non-null     float64\n",
            " 8   2004yr          26 non-null     float64\n",
            " 9   2005yr          26 non-null     float64\n",
            " 10  2006yr          26 non-null     float64\n",
            " 11  2007yr          26 non-null     float64\n",
            " 12  2008yr          26 non-null     float64\n",
            " 13  2009yr          26 non-null     float64\n",
            " 14  2010yr          27 non-null     float64\n",
            " 15  2011yr          27 non-null     float64\n",
            " 16  2012yr          26 non-null     float64\n",
            " 17  2013yr          26 non-null     float64\n",
            " 18  2014yr          26 non-null     float64\n",
            " 19  2015yr          26 non-null     float64\n",
            " 20  2016yr          26 non-null     float64\n",
            " 21  2017yr          26 non-null     float64\n",
            " 22  2018yr          26 non-null     float64\n",
            " 23  2019            0 non-null      float64\n",
            " 24  2020            0 non-null      float64\n",
            "dtypes: float64(21), object(4)\n",
            "memory usage: 5.4+ KB\n"
          ],
          "name": "stdout"
        }
      ]
    },
    {
      "cell_type": "code",
      "metadata": {
        "colab": {
          "base_uri": "https://localhost:8080/"
        },
        "id": "oeTQGc0JTwD5",
        "outputId": "4619a999-3bea-4f87-f0e8-2275190ea029"
      },
      "source": [
        "#The correlation between Kenya and world standards in the budget allocation to healthcare expenditure.\n",
        "gdp_health.info()"
      ],
      "execution_count": 95,
      "outputs": [
        {
          "output_type": "stream",
          "text": [
            "<class 'pandas.core.frame.DataFrame'>\n",
            "RangeIndex: 27 entries, 0 to 26\n",
            "Data columns (total 25 columns):\n",
            " #   Column          Non-Null Count  Dtype  \n",
            "---  ------          --------------  -----  \n",
            " 0   Country Name    27 non-null     object \n",
            " 1   Country Code    27 non-null     object \n",
            " 2   Indicator Name  27 non-null     object \n",
            " 3   Indicator Code  27 non-null     object \n",
            " 4   2000yr          25 non-null     float64\n",
            " 5   2001yr          25 non-null     float64\n",
            " 6   2002yr          25 non-null     float64\n",
            " 7   2003yr          26 non-null     float64\n",
            " 8   2004yr          26 non-null     float64\n",
            " 9   2005yr          26 non-null     float64\n",
            " 10  2006yr          26 non-null     float64\n",
            " 11  2007yr          26 non-null     float64\n",
            " 12  2008yr          26 non-null     float64\n",
            " 13  2009yr          26 non-null     float64\n",
            " 14  2010yr          27 non-null     float64\n",
            " 15  2011yr          27 non-null     float64\n",
            " 16  2012yr          26 non-null     float64\n",
            " 17  2013yr          26 non-null     float64\n",
            " 18  2014yr          26 non-null     float64\n",
            " 19  2015yr          26 non-null     float64\n",
            " 20  2016yr          26 non-null     float64\n",
            " 21  2017yr          26 non-null     float64\n",
            " 22  2018yr          26 non-null     float64\n",
            " 23  2019            0 non-null      float64\n",
            " 24  2020            0 non-null      float64\n",
            "dtypes: float64(21), object(4)\n",
            "memory usage: 5.4+ KB\n"
          ],
          "name": "stdout"
        }
      ]
    },
    {
      "cell_type": "code",
      "metadata": {
        "id": "Fu2sLiDZE7vg",
        "colab": {
          "base_uri": "https://localhost:8080/",
          "height": 1000
        },
        "outputId": "7034c054-211f-47af-effa-f38db73dae8a"
      },
      "source": [
        "# load dataset for healthcare spending per county\n",
        "df2 = pd.read_csv(\"/content/Health_Spending_Per_Capita_By_County.csv\")\n",
        "df2.drop(['Geolocation', '%_That_Slept_Under_a_Bed_Net',\t'%_That_Had_a_Fever_or_Malaria'], axis= 1)"
      ],
      "execution_count": null,
      "outputs": [
        {
          "output_type": "execute_result",
          "data": {
            "text/html": [
              "<div>\n",
              "<style scoped>\n",
              "    .dataframe tbody tr th:only-of-type {\n",
              "        vertical-align: middle;\n",
              "    }\n",
              "\n",
              "    .dataframe tbody tr th {\n",
              "        vertical-align: top;\n",
              "    }\n",
              "\n",
              "    .dataframe thead th {\n",
              "        text-align: right;\n",
              "    }\n",
              "</style>\n",
              "<table border=\"1\" class=\"dataframe\">\n",
              "  <thead>\n",
              "    <tr style=\"text-align: right;\">\n",
              "      <th></th>\n",
              "      <th>County</th>\n",
              "      <th>Heath_Spending_Per_Person_</th>\n",
              "      <th>OBJECTID</th>\n",
              "    </tr>\n",
              "  </thead>\n",
              "  <tbody>\n",
              "    <tr>\n",
              "      <th>0</th>\n",
              "      <td>Baringo</td>\n",
              "      <td>29</td>\n",
              "      <td>0</td>\n",
              "    </tr>\n",
              "    <tr>\n",
              "      <th>1</th>\n",
              "      <td>Bomet</td>\n",
              "      <td>20</td>\n",
              "      <td>1</td>\n",
              "    </tr>\n",
              "    <tr>\n",
              "      <th>2</th>\n",
              "      <td>Bungoma</td>\n",
              "      <td>20</td>\n",
              "      <td>2</td>\n",
              "    </tr>\n",
              "    <tr>\n",
              "      <th>3</th>\n",
              "      <td>Busia</td>\n",
              "      <td>20</td>\n",
              "      <td>3</td>\n",
              "    </tr>\n",
              "    <tr>\n",
              "      <th>4</th>\n",
              "      <td>Elgeyo/Marakwet</td>\n",
              "      <td>48</td>\n",
              "      <td>4</td>\n",
              "    </tr>\n",
              "    <tr>\n",
              "      <th>5</th>\n",
              "      <td>Embu</td>\n",
              "      <td>34</td>\n",
              "      <td>5</td>\n",
              "    </tr>\n",
              "    <tr>\n",
              "      <th>6</th>\n",
              "      <td>Garissa</td>\n",
              "      <td>37</td>\n",
              "      <td>6</td>\n",
              "    </tr>\n",
              "    <tr>\n",
              "      <th>7</th>\n",
              "      <td>Homa Bay</td>\n",
              "      <td>24</td>\n",
              "      <td>7</td>\n",
              "    </tr>\n",
              "    <tr>\n",
              "      <th>8</th>\n",
              "      <td>Isiolo</td>\n",
              "      <td>42</td>\n",
              "      <td>8</td>\n",
              "    </tr>\n",
              "    <tr>\n",
              "      <th>9</th>\n",
              "      <td>Kajiado</td>\n",
              "      <td>15</td>\n",
              "      <td>9</td>\n",
              "    </tr>\n",
              "    <tr>\n",
              "      <th>10</th>\n",
              "      <td>Kakamega</td>\n",
              "      <td>23</td>\n",
              "      <td>10</td>\n",
              "    </tr>\n",
              "    <tr>\n",
              "      <th>11</th>\n",
              "      <td>Kericho</td>\n",
              "      <td>11</td>\n",
              "      <td>11</td>\n",
              "    </tr>\n",
              "    <tr>\n",
              "      <th>12</th>\n",
              "      <td>Kiambu</td>\n",
              "      <td>20</td>\n",
              "      <td>12</td>\n",
              "    </tr>\n",
              "    <tr>\n",
              "      <th>13</th>\n",
              "      <td>Kilifi</td>\n",
              "      <td>26</td>\n",
              "      <td>13</td>\n",
              "    </tr>\n",
              "    <tr>\n",
              "      <th>14</th>\n",
              "      <td>Kirinyaga</td>\n",
              "      <td>18</td>\n",
              "      <td>14</td>\n",
              "    </tr>\n",
              "    <tr>\n",
              "      <th>15</th>\n",
              "      <td>Kisii</td>\n",
              "      <td>26</td>\n",
              "      <td>15</td>\n",
              "    </tr>\n",
              "    <tr>\n",
              "      <th>16</th>\n",
              "      <td>Kisumu</td>\n",
              "      <td>29</td>\n",
              "      <td>16</td>\n",
              "    </tr>\n",
              "    <tr>\n",
              "      <th>17</th>\n",
              "      <td>Kitui</td>\n",
              "      <td>46</td>\n",
              "      <td>17</td>\n",
              "    </tr>\n",
              "    <tr>\n",
              "      <th>18</th>\n",
              "      <td>Kwale</td>\n",
              "      <td>31</td>\n",
              "      <td>18</td>\n",
              "    </tr>\n",
              "    <tr>\n",
              "      <th>19</th>\n",
              "      <td>Laikipia</td>\n",
              "      <td>29</td>\n",
              "      <td>19</td>\n",
              "    </tr>\n",
              "    <tr>\n",
              "      <th>20</th>\n",
              "      <td>Lamu</td>\n",
              "      <td>50</td>\n",
              "      <td>20</td>\n",
              "    </tr>\n",
              "    <tr>\n",
              "      <th>21</th>\n",
              "      <td>Machakos</td>\n",
              "      <td>16</td>\n",
              "      <td>21</td>\n",
              "    </tr>\n",
              "    <tr>\n",
              "      <th>22</th>\n",
              "      <td>Makueni</td>\n",
              "      <td>15</td>\n",
              "      <td>22</td>\n",
              "    </tr>\n",
              "    <tr>\n",
              "      <th>23</th>\n",
              "      <td>Mandera</td>\n",
              "      <td>20</td>\n",
              "      <td>23</td>\n",
              "    </tr>\n",
              "    <tr>\n",
              "      <th>24</th>\n",
              "      <td>Marsabit</td>\n",
              "      <td>46</td>\n",
              "      <td>24</td>\n",
              "    </tr>\n",
              "    <tr>\n",
              "      <th>25</th>\n",
              "      <td>Meru</td>\n",
              "      <td>22</td>\n",
              "      <td>25</td>\n",
              "    </tr>\n",
              "    <tr>\n",
              "      <th>26</th>\n",
              "      <td>Migori</td>\n",
              "      <td>23</td>\n",
              "      <td>26</td>\n",
              "    </tr>\n",
              "    <tr>\n",
              "      <th>27</th>\n",
              "      <td>Mombasa</td>\n",
              "      <td>11</td>\n",
              "      <td>27</td>\n",
              "    </tr>\n",
              "    <tr>\n",
              "      <th>28</th>\n",
              "      <td>Murang'a</td>\n",
              "      <td>22</td>\n",
              "      <td>28</td>\n",
              "    </tr>\n",
              "    <tr>\n",
              "      <th>29</th>\n",
              "      <td>Nairobi</td>\n",
              "      <td>7</td>\n",
              "      <td>29</td>\n",
              "    </tr>\n",
              "    <tr>\n",
              "      <th>30</th>\n",
              "      <td>Nakuru</td>\n",
              "      <td>11</td>\n",
              "      <td>30</td>\n",
              "    </tr>\n",
              "    <tr>\n",
              "      <th>31</th>\n",
              "      <td>Nandi</td>\n",
              "      <td>23</td>\n",
              "      <td>31</td>\n",
              "    </tr>\n",
              "    <tr>\n",
              "      <th>32</th>\n",
              "      <td>Narok</td>\n",
              "      <td>7</td>\n",
              "      <td>32</td>\n",
              "    </tr>\n",
              "    <tr>\n",
              "      <th>33</th>\n",
              "      <td>Nyamira</td>\n",
              "      <td>22</td>\n",
              "      <td>33</td>\n",
              "    </tr>\n",
              "    <tr>\n",
              "      <th>34</th>\n",
              "      <td>Nyandarua</td>\n",
              "      <td>17</td>\n",
              "      <td>34</td>\n",
              "    </tr>\n",
              "    <tr>\n",
              "      <th>35</th>\n",
              "      <td>Nyeri</td>\n",
              "      <td>39</td>\n",
              "      <td>35</td>\n",
              "    </tr>\n",
              "    <tr>\n",
              "      <th>36</th>\n",
              "      <td>Samburu</td>\n",
              "      <td>34</td>\n",
              "      <td>36</td>\n",
              "    </tr>\n",
              "    <tr>\n",
              "      <th>37</th>\n",
              "      <td>Siaya</td>\n",
              "      <td>22</td>\n",
              "      <td>37</td>\n",
              "    </tr>\n",
              "    <tr>\n",
              "      <th>38</th>\n",
              "      <td>Taita Taveta</td>\n",
              "      <td>48</td>\n",
              "      <td>38</td>\n",
              "    </tr>\n",
              "    <tr>\n",
              "      <th>39</th>\n",
              "      <td>Tana River</td>\n",
              "      <td>19</td>\n",
              "      <td>39</td>\n",
              "    </tr>\n",
              "    <tr>\n",
              "      <th>40</th>\n",
              "      <td>Tharaka Nithi</td>\n",
              "      <td>18</td>\n",
              "      <td>40</td>\n",
              "    </tr>\n",
              "    <tr>\n",
              "      <th>41</th>\n",
              "      <td>Trans Nzoia</td>\n",
              "      <td>8</td>\n",
              "      <td>41</td>\n",
              "    </tr>\n",
              "    <tr>\n",
              "      <th>42</th>\n",
              "      <td>Turkana</td>\n",
              "      <td>14</td>\n",
              "      <td>42</td>\n",
              "    </tr>\n",
              "    <tr>\n",
              "      <th>43</th>\n",
              "      <td>Uasin Gishu</td>\n",
              "      <td>13</td>\n",
              "      <td>43</td>\n",
              "    </tr>\n",
              "    <tr>\n",
              "      <th>44</th>\n",
              "      <td>Vihiga</td>\n",
              "      <td>10</td>\n",
              "      <td>44</td>\n",
              "    </tr>\n",
              "    <tr>\n",
              "      <th>45</th>\n",
              "      <td>Wajir</td>\n",
              "      <td>21</td>\n",
              "      <td>45</td>\n",
              "    </tr>\n",
              "    <tr>\n",
              "      <th>46</th>\n",
              "      <td>West Pokot</td>\n",
              "      <td>24</td>\n",
              "      <td>46</td>\n",
              "    </tr>\n",
              "  </tbody>\n",
              "</table>\n",
              "</div>"
            ],
            "text/plain": [
              "             County  Heath_Spending_Per_Person_  OBJECTID\n",
              "0           Baringo                          29         0\n",
              "1             Bomet                          20         1\n",
              "2           Bungoma                          20         2\n",
              "3             Busia                          20         3\n",
              "4   Elgeyo/Marakwet                          48         4\n",
              "5              Embu                          34         5\n",
              "6           Garissa                          37         6\n",
              "7          Homa Bay                          24         7\n",
              "8            Isiolo                          42         8\n",
              "9           Kajiado                          15         9\n",
              "10         Kakamega                          23        10\n",
              "11          Kericho                          11        11\n",
              "12           Kiambu                          20        12\n",
              "13           Kilifi                          26        13\n",
              "14        Kirinyaga                          18        14\n",
              "15            Kisii                          26        15\n",
              "16           Kisumu                          29        16\n",
              "17            Kitui                          46        17\n",
              "18            Kwale                          31        18\n",
              "19         Laikipia                          29        19\n",
              "20             Lamu                          50        20\n",
              "21         Machakos                          16        21\n",
              "22          Makueni                          15        22\n",
              "23          Mandera                          20        23\n",
              "24         Marsabit                          46        24\n",
              "25             Meru                          22        25\n",
              "26           Migori                          23        26\n",
              "27          Mombasa                          11        27\n",
              "28         Murang'a                          22        28\n",
              "29          Nairobi                           7        29\n",
              "30           Nakuru                          11        30\n",
              "31            Nandi                          23        31\n",
              "32            Narok                           7        32\n",
              "33          Nyamira                          22        33\n",
              "34        Nyandarua                          17        34\n",
              "35            Nyeri                          39        35\n",
              "36          Samburu                          34        36\n",
              "37            Siaya                          22        37\n",
              "38     Taita Taveta                          48        38\n",
              "39       Tana River                          19        39\n",
              "40    Tharaka Nithi                          18        40\n",
              "41      Trans Nzoia                           8        41\n",
              "42          Turkana                          14        42\n",
              "43      Uasin Gishu                          13        43\n",
              "44           Vihiga                          10        44\n",
              "45            Wajir                          21        45\n",
              "46       West Pokot                          24        46"
            ]
          },
          "metadata": {
            "tags": []
          },
          "execution_count": 4
        }
      ]
    },
    {
      "cell_type": "markdown",
      "metadata": {
        "id": "6jPWv63knXJz"
      },
      "source": [
        "#The distribution of health centers across the country i.e Level 5 Hospitals, Level 4 hospitals, Level 3 hospitals, Level 2 and Health dispensaries in the counties across the country.\n"
      ]
    },
    {
      "cell_type": "code",
      "metadata": {
        "id": "VsSlmy18NDil",
        "colab": {
          "base_uri": "https://localhost:8080/"
        },
        "outputId": "cbec0482-9d02-48a2-d4dc-b76395c9f874"
      },
      "source": [
        "# dropping columns that are not relevant to the research needs\n",
        "df.info()"
      ],
      "execution_count": null,
      "outputs": [
        {
          "output_type": "stream",
          "text": [
            "<class 'pandas.core.frame.DataFrame'>\n",
            "RangeIndex: 12394 entries, 0 to 12393\n",
            "Data columns (total 26 columns):\n",
            " #   Column                  Non-Null Count  Dtype  \n",
            "---  ------                  --------------  -----  \n",
            " 0   Code                    12394 non-null  object \n",
            " 1   Name                    12394 non-null  object \n",
            " 2   Officialname            12394 non-null  object \n",
            " 3   Registration_number     12343 non-null  object \n",
            " 4   Keph level              12394 non-null  object \n",
            " 5   Facility type           12394 non-null  object \n",
            " 6   Facility_type_category  12394 non-null  object \n",
            " 7   Owner                   12394 non-null  object \n",
            " 8   Owner type              12394 non-null  object \n",
            " 9   Regulatory body         12394 non-null  object \n",
            " 10  Beds                    12394 non-null  object \n",
            " 11  Cots                    12394 non-null  int64  \n",
            " 12  Beds and Cots           12394 non-null  int64  \n",
            " 13  County                  12394 non-null  object \n",
            " 14  Constituency            12394 non-null  object \n",
            " 15  Sub county              12394 non-null  object \n",
            " 16  Ward                    12394 non-null  object \n",
            " 17  Operation status        12394 non-null  object \n",
            " 18  Open_whole_day          12394 non-null  object \n",
            " 19  Open_public_holidays    12394 non-null  object \n",
            " 20  Open_weekends           12394 non-null  object \n",
            " 21  Open_late_night         12394 non-null  object \n",
            " 22  Service_names           0 non-null      float64\n",
            " 23  Approved                12394 non-null  object \n",
            " 24  Public visible          12394 non-null  object \n",
            " 25  Closed                  12394 non-null  object \n",
            "dtypes: float64(1), int64(2), object(23)\n",
            "memory usage: 2.5+ MB\n"
          ],
          "name": "stdout"
        }
      ]
    },
    {
      "cell_type": "code",
      "metadata": {
        "id": "Z7mgqYiinEYQ",
        "colab": {
          "base_uri": "https://localhost:8080/",
          "height": 867
        },
        "outputId": "cf8969a6-3b8c-4a29-ed81-a93f7f400329"
      },
      "source": [
        "#drop unnecesarry columns namely \"Open_public_holidays\tOpen_weekends\tOpen_late_night\tService_names\"\n",
        "df.drop(['Open_public_holidays', 'Open_whole_day', 'Open_weekends', 'Open_late_night', 'Service_names'], axis =1 )"
      ],
      "execution_count": null,
      "outputs": [
        {
          "output_type": "execute_result",
          "data": {
            "text/html": [
              "<div>\n",
              "<style scoped>\n",
              "    .dataframe tbody tr th:only-of-type {\n",
              "        vertical-align: middle;\n",
              "    }\n",
              "\n",
              "    .dataframe tbody tr th {\n",
              "        vertical-align: top;\n",
              "    }\n",
              "\n",
              "    .dataframe thead th {\n",
              "        text-align: right;\n",
              "    }\n",
              "</style>\n",
              "<table border=\"1\" class=\"dataframe\">\n",
              "  <thead>\n",
              "    <tr style=\"text-align: right;\">\n",
              "      <th></th>\n",
              "      <th>Code</th>\n",
              "      <th>Name</th>\n",
              "      <th>Officialname</th>\n",
              "      <th>Registration_number</th>\n",
              "      <th>Keph level</th>\n",
              "      <th>Facility type</th>\n",
              "      <th>Facility_type_category</th>\n",
              "      <th>Owner</th>\n",
              "      <th>Owner type</th>\n",
              "      <th>Regulatory body</th>\n",
              "      <th>Beds</th>\n",
              "      <th>Cots</th>\n",
              "      <th>Beds and Cots</th>\n",
              "      <th>County</th>\n",
              "      <th>Constituency</th>\n",
              "      <th>Sub county</th>\n",
              "      <th>Ward</th>\n",
              "      <th>Operation status</th>\n",
              "      <th>Approved</th>\n",
              "      <th>Public visible</th>\n",
              "      <th>Closed</th>\n",
              "    </tr>\n",
              "  </thead>\n",
              "  <tbody>\n",
              "    <tr>\n",
              "      <th>0</th>\n",
              "      <td>25720</td>\n",
              "      <td>Itete Dispensary</td>\n",
              "      <td>Itete Dispensary</td>\n",
              "      <td>1245</td>\n",
              "      <td>Level 2</td>\n",
              "      <td>Dispensary</td>\n",
              "      <td>DISPENSARY</td>\n",
              "      <td>Ministry of Health</td>\n",
              "      <td>Ministry of Health</td>\n",
              "      <td>Ministry of Health</td>\n",
              "      <td>8</td>\n",
              "      <td>3</td>\n",
              "      <td>11</td>\n",
              "      <td>Kakamega</td>\n",
              "      <td>Matungu</td>\n",
              "      <td>Matungu</td>\n",
              "      <td>Koyonzo</td>\n",
              "      <td>Operational</td>\n",
              "      <td>Yes</td>\n",
              "      <td>Yes</td>\n",
              "      <td>No</td>\n",
              "    </tr>\n",
              "    <tr>\n",
              "      <th>1</th>\n",
              "      <td>25722</td>\n",
              "      <td>Penda Medical Center - Mathare North</td>\n",
              "      <td>Penda Medical Center - Mathare North</td>\n",
              "      <td>17345</td>\n",
              "      <td>Level 3</td>\n",
              "      <td>Medical Center</td>\n",
              "      <td>MEDICAL CENTER</td>\n",
              "      <td>Private Practice - Private Company</td>\n",
              "      <td>Private Practice</td>\n",
              "      <td>Kenya MPDB</td>\n",
              "      <td>0</td>\n",
              "      <td>0</td>\n",
              "      <td>0</td>\n",
              "      <td>Nairobi</td>\n",
              "      <td>Ruaraka</td>\n",
              "      <td>Ruaraka</td>\n",
              "      <td>Mathare North</td>\n",
              "      <td>Operational</td>\n",
              "      <td>Yes</td>\n",
              "      <td>Yes</td>\n",
              "      <td>No</td>\n",
              "    </tr>\n",
              "    <tr>\n",
              "      <th>2</th>\n",
              "      <td>None</td>\n",
              "      <td>Mukavakava</td>\n",
              "      <td>Mukavakava</td>\n",
              "      <td>None</td>\n",
              "      <td>Level 2</td>\n",
              "      <td>Dispensary</td>\n",
              "      <td>DISPENSARY</td>\n",
              "      <td>Ministry of Health</td>\n",
              "      <td>Ministry of Health</td>\n",
              "      <td>Ministry of Health</td>\n",
              "      <td>0</td>\n",
              "      <td>1</td>\n",
              "      <td>1</td>\n",
              "      <td>Kakamega</td>\n",
              "      <td>Malava</td>\n",
              "      <td>Malava</td>\n",
              "      <td>Butali/Chegulo</td>\n",
              "      <td>Operational</td>\n",
              "      <td>Yes</td>\n",
              "      <td>Yes</td>\n",
              "      <td>No</td>\n",
              "    </tr>\n",
              "    <tr>\n",
              "      <th>3</th>\n",
              "      <td>None</td>\n",
              "      <td>Nchurra Dispensary</td>\n",
              "      <td>Nchurra Dispensary</td>\n",
              "      <td>None</td>\n",
              "      <td>Level 2</td>\n",
              "      <td>Dispensary</td>\n",
              "      <td>DISPENSARY</td>\n",
              "      <td>Ministry of Health</td>\n",
              "      <td>Ministry of Health</td>\n",
              "      <td>Ministry of Health</td>\n",
              "      <td>0</td>\n",
              "      <td>0</td>\n",
              "      <td>0</td>\n",
              "      <td>Narok</td>\n",
              "      <td>Narok South</td>\n",
              "      <td>Narok South</td>\n",
              "      <td>Melelo</td>\n",
              "      <td>Operational</td>\n",
              "      <td>Yes</td>\n",
              "      <td>Yes</td>\n",
              "      <td>No</td>\n",
              "    </tr>\n",
              "    <tr>\n",
              "      <th>4</th>\n",
              "      <td>None</td>\n",
              "      <td>Upland Health Care Center</td>\n",
              "      <td>Upland Health Care Center</td>\n",
              "      <td>None</td>\n",
              "      <td>Level 2</td>\n",
              "      <td>Medical Clinic</td>\n",
              "      <td>MEDICAL CLINIC</td>\n",
              "      <td>Private Practice - Nurse / Midwifery</td>\n",
              "      <td>Private Practice</td>\n",
              "      <td>None</td>\n",
              "      <td>0</td>\n",
              "      <td>0</td>\n",
              "      <td>0</td>\n",
              "      <td>Kirinyaga</td>\n",
              "      <td>Kirinyaga Central</td>\n",
              "      <td>Kirinyaga Central</td>\n",
              "      <td>Kerugoya</td>\n",
              "      <td>Operational</td>\n",
              "      <td>Yes</td>\n",
              "      <td>Yes</td>\n",
              "      <td>No</td>\n",
              "    </tr>\n",
              "    <tr>\n",
              "      <th>...</th>\n",
              "      <td>...</td>\n",
              "      <td>...</td>\n",
              "      <td>...</td>\n",
              "      <td>...</td>\n",
              "      <td>...</td>\n",
              "      <td>...</td>\n",
              "      <td>...</td>\n",
              "      <td>...</td>\n",
              "      <td>...</td>\n",
              "      <td>...</td>\n",
              "      <td>...</td>\n",
              "      <td>...</td>\n",
              "      <td>...</td>\n",
              "      <td>...</td>\n",
              "      <td>...</td>\n",
              "      <td>...</td>\n",
              "      <td>...</td>\n",
              "      <td>...</td>\n",
              "      <td>...</td>\n",
              "      <td>...</td>\n",
              "      <td>...</td>\n",
              "    </tr>\n",
              "    <tr>\n",
              "      <th>12389</th>\n",
              "      <td>13311</td>\n",
              "      <td>Bour-Algy Dispensary</td>\n",
              "      <td>Bour-algy Dispensary</td>\n",
              "      <td>None</td>\n",
              "      <td>Level 2</td>\n",
              "      <td>Dispensary</td>\n",
              "      <td>DISPENSARY</td>\n",
              "      <td>Ministry of Health</td>\n",
              "      <td>Ministry of Health</td>\n",
              "      <td>Ministry of Health</td>\n",
              "      <td>0</td>\n",
              "      <td>0</td>\n",
              "      <td>0</td>\n",
              "      <td>Garissa</td>\n",
              "      <td>Garissa Township</td>\n",
              "      <td>Garissa</td>\n",
              "      <td>Iftin</td>\n",
              "      <td>Operational</td>\n",
              "      <td>Yes</td>\n",
              "      <td>Yes</td>\n",
              "      <td>No</td>\n",
              "    </tr>\n",
              "    <tr>\n",
              "      <th>12390</th>\n",
              "      <td>12547</td>\n",
              "      <td>Mtito andei Sub County Hospital</td>\n",
              "      <td>Mtito Andei Sub County Hospital</td>\n",
              "      <td>None</td>\n",
              "      <td>Level 4</td>\n",
              "      <td>Primary care hospitals</td>\n",
              "      <td>HOSPITALS</td>\n",
              "      <td>Ministry of Health</td>\n",
              "      <td>Ministry of Health</td>\n",
              "      <td>Ministry of Health</td>\n",
              "      <td>12</td>\n",
              "      <td>0</td>\n",
              "      <td>12</td>\n",
              "      <td>Makueni</td>\n",
              "      <td>Kibwezi East</td>\n",
              "      <td>Kibwezi East</td>\n",
              "      <td>Mtito Andei</td>\n",
              "      <td>Operational</td>\n",
              "      <td>Yes</td>\n",
              "      <td>Yes</td>\n",
              "      <td>No</td>\n",
              "    </tr>\n",
              "    <tr>\n",
              "      <th>12391</th>\n",
              "      <td>12402</td>\n",
              "      <td>Kyaani Health Centre</td>\n",
              "      <td>Kyaani Health Centre</td>\n",
              "      <td>None</td>\n",
              "      <td>Level 3</td>\n",
              "      <td>Basic Health Centre</td>\n",
              "      <td>HEALTH CENTRE</td>\n",
              "      <td>Ministry of Health</td>\n",
              "      <td>Ministry of Health</td>\n",
              "      <td>Ministry of Health</td>\n",
              "      <td>2</td>\n",
              "      <td>0</td>\n",
              "      <td>2</td>\n",
              "      <td>Makueni</td>\n",
              "      <td>Kibwezi East</td>\n",
              "      <td>Kibwezi East</td>\n",
              "      <td>Thange</td>\n",
              "      <td>Operational</td>\n",
              "      <td>Yes</td>\n",
              "      <td>Yes</td>\n",
              "      <td>No</td>\n",
              "    </tr>\n",
              "    <tr>\n",
              "      <th>12392</th>\n",
              "      <td>10834</td>\n",
              "      <td>Ndivai Dispensary</td>\n",
              "      <td>Ndivai Dispensary</td>\n",
              "      <td>None</td>\n",
              "      <td>Level 2</td>\n",
              "      <td>Dispensary</td>\n",
              "      <td>DISPENSARY</td>\n",
              "      <td>Ministry of Health</td>\n",
              "      <td>Ministry of Health</td>\n",
              "      <td>Ministry of Health</td>\n",
              "      <td>0</td>\n",
              "      <td>0</td>\n",
              "      <td>0</td>\n",
              "      <td>Nyandarua</td>\n",
              "      <td>Ndaragwa</td>\n",
              "      <td>Ndaragwa</td>\n",
              "      <td>Leshau/Pondo</td>\n",
              "      <td>Operational</td>\n",
              "      <td>Yes</td>\n",
              "      <td>Yes</td>\n",
              "      <td>No</td>\n",
              "    </tr>\n",
              "    <tr>\n",
              "      <th>12393</th>\n",
              "      <td>10907</td>\n",
              "      <td>Oaklands Estate Dispensary</td>\n",
              "      <td>Oakland Estate Dispensary</td>\n",
              "      <td>None</td>\n",
              "      <td>Level 2</td>\n",
              "      <td>Dispensary</td>\n",
              "      <td>DISPENSARY</td>\n",
              "      <td>Private Practice - Private Company</td>\n",
              "      <td>Private Practice</td>\n",
              "      <td>Kenya MPDB</td>\n",
              "      <td>0</td>\n",
              "      <td>0</td>\n",
              "      <td>0</td>\n",
              "      <td>Kiambu</td>\n",
              "      <td>Ruiru</td>\n",
              "      <td>Ruiru</td>\n",
              "      <td>Mwihoko</td>\n",
              "      <td>Operational</td>\n",
              "      <td>Yes</td>\n",
              "      <td>Yes</td>\n",
              "      <td>No</td>\n",
              "    </tr>\n",
              "  </tbody>\n",
              "</table>\n",
              "<p>12394 rows × 21 columns</p>\n",
              "</div>"
            ],
            "text/plain": [
              "        Code                                  Name  ... Public visible Closed\n",
              "0      25720                      Itete Dispensary  ...            Yes     No\n",
              "1      25722  Penda Medical Center - Mathare North  ...            Yes     No\n",
              "2       None                            Mukavakava  ...            Yes     No\n",
              "3       None                    Nchurra Dispensary  ...            Yes     No\n",
              "4       None             Upland Health Care Center  ...            Yes     No\n",
              "...      ...                                   ...  ...            ...    ...\n",
              "12389  13311                  Bour-Algy Dispensary  ...            Yes     No\n",
              "12390  12547       Mtito andei Sub County Hospital  ...            Yes     No\n",
              "12391  12402                  Kyaani Health Centre  ...            Yes     No\n",
              "12392  10834                     Ndivai Dispensary  ...            Yes     No\n",
              "12393  10907            Oaklands Estate Dispensary  ...            Yes     No\n",
              "\n",
              "[12394 rows x 21 columns]"
            ]
          },
          "metadata": {
            "tags": []
          },
          "execution_count": 7
        }
      ]
    },
    {
      "cell_type": "code",
      "metadata": {
        "id": "zj3m2p41wIb9",
        "colab": {
          "base_uri": "https://localhost:8080/"
        },
        "outputId": "df370ab8-f80d-4c1a-a653-f4614f1f1a9f"
      },
      "source": [
        "df.columns"
      ],
      "execution_count": null,
      "outputs": [
        {
          "output_type": "execute_result",
          "data": {
            "text/plain": [
              "Index(['Code', 'Name', 'Officialname', 'Registration_number', 'Keph level',\n",
              "       'Facility type', 'Facility_type_category', 'Owner', 'Owner type',\n",
              "       'Regulatory body', 'Beds', 'Cots', 'Beds and Cots', 'County',\n",
              "       'Constituency', 'Sub county', 'Ward', 'Operation status',\n",
              "       'Open_whole_day', 'Open_public_holidays', 'Open_weekends',\n",
              "       'Open_late_night', 'Service_names', 'Approved', 'Public visible',\n",
              "       'Closed'],\n",
              "      dtype='object')"
            ]
          },
          "metadata": {
            "tags": []
          },
          "execution_count": 8
        }
      ]
    },
    {
      "cell_type": "code",
      "metadata": {
        "id": "HWveIuvnIIxs"
      },
      "source": [
        "# Checking size and shape\n",
        "\n",
        "def sizeshape(dataset_name):\n",
        "\n",
        "  shape = name.shape\n",
        "\n",
        "  size = name.size\n",
        "\n",
        "  message = print(f\"The size of the dataset is {size} and the shape is {shape}.\")\n",
        "\n",
        "  return message"
      ],
      "execution_count": null,
      "outputs": []
    },
    {
      "cell_type": "code",
      "metadata": {
        "id": "AxncOz42I0PA",
        "colab": {
          "base_uri": "https://localhost:8080/"
        },
        "outputId": "55861242-ca8a-4761-e1fa-e5620c2eed69"
      },
      "source": [
        "df.size"
      ],
      "execution_count": null,
      "outputs": [
        {
          "output_type": "execute_result",
          "data": {
            "text/plain": [
              "322244"
            ]
          },
          "metadata": {
            "tags": []
          },
          "execution_count": 12
        }
      ]
    },
    {
      "cell_type": "code",
      "metadata": {
        "id": "ZOc5VHTRoOtR",
        "colab": {
          "base_uri": "https://localhost:8080/"
        },
        "outputId": "1514ae5e-dc0f-49fa-cfc3-21de623903cf"
      },
      "source": [
        "#doing a check for all available columns and the type of data it contains\n",
        "df.info()"
      ],
      "execution_count": null,
      "outputs": [
        {
          "output_type": "stream",
          "text": [
            "<class 'pandas.core.frame.DataFrame'>\n",
            "RangeIndex: 12394 entries, 0 to 12393\n",
            "Data columns (total 26 columns):\n",
            " #   Column                  Non-Null Count  Dtype  \n",
            "---  ------                  --------------  -----  \n",
            " 0   Code                    12394 non-null  object \n",
            " 1   Name                    12394 non-null  object \n",
            " 2   Officialname            12394 non-null  object \n",
            " 3   Registration_number     12343 non-null  object \n",
            " 4   Keph level              12394 non-null  object \n",
            " 5   Facility type           12394 non-null  object \n",
            " 6   Facility_type_category  12394 non-null  object \n",
            " 7   Owner                   12394 non-null  object \n",
            " 8   Owner type              12394 non-null  object \n",
            " 9   Regulatory body         12394 non-null  object \n",
            " 10  Beds                    12394 non-null  object \n",
            " 11  Cots                    12394 non-null  int64  \n",
            " 12  Beds and Cots           12394 non-null  int64  \n",
            " 13  County                  12394 non-null  object \n",
            " 14  Constituency            12394 non-null  object \n",
            " 15  Sub county              12394 non-null  object \n",
            " 16  Ward                    12394 non-null  object \n",
            " 17  Operation status        12394 non-null  object \n",
            " 18  Open_whole_day          12394 non-null  object \n",
            " 19  Open_public_holidays    12394 non-null  object \n",
            " 20  Open_weekends           12394 non-null  object \n",
            " 21  Open_late_night         12394 non-null  object \n",
            " 22  Service_names           0 non-null      float64\n",
            " 23  Approved                12394 non-null  object \n",
            " 24  Public visible          12394 non-null  object \n",
            " 25  Closed                  12394 non-null  object \n",
            "dtypes: float64(1), int64(2), object(23)\n",
            "memory usage: 2.5+ MB\n"
          ],
          "name": "stdout"
        }
      ]
    },
    {
      "cell_type": "code",
      "metadata": {
        "id": "GoDLriXVFarh"
      },
      "source": [
        "# Function to check for missing values\n",
        "def missingvalues(dataset_name):\n",
        "\n",
        "  out = dataset_name.isnull().any()\n",
        "  miss = []\n",
        "# For loop\n",
        "  for i in out.values:\n",
        "    miss.append(i)\n",
        "#condition to check for\n",
        "  if True not in miss:\n",
        "    output = print(\"There are no missing values in the List of hospitals and number of beds dataset\")\n",
        "    return output\n",
        "  else:\n",
        "     print(\"No missing data in the List of hospitals and number of beds dataset\")\n"
      ],
      "execution_count": null,
      "outputs": []
    },
    {
      "cell_type": "code",
      "metadata": {
        "id": "3ey4j2z4IfK6",
        "colab": {
          "base_uri": "https://localhost:8080/"
        },
        "outputId": "34c2dec7-caa6-4380-eb38-82a90f0de101"
      },
      "source": [
        "missingvalues(df)"
      ],
      "execution_count": null,
      "outputs": [
        {
          "output_type": "stream",
          "text": [
            "No missing data in the List of hospitals and number of beds dataset\n"
          ],
          "name": "stdout"
        }
      ]
    },
    {
      "cell_type": "code",
      "metadata": {
        "id": "B4Jqm0kLqkAr",
        "colab": {
          "base_uri": "https://localhost:8080/"
        },
        "outputId": "1ea459b3-0c25-4736-edc2-5e54f19eff0c"
      },
      "source": [
        "#To find the ownership of Healthcare centers - Private/Ministry of Health\n",
        "df.groupby('Owner type').count()['Code']"
      ],
      "execution_count": null,
      "outputs": [
        {
          "output_type": "execute_result",
          "data": {
            "text/plain": [
              "Owner type\n",
              "Faith Based Organization          1032\n",
              "Ministry of Health                5878\n",
              "Non-Governmental Organizations     366\n",
              "Private Practice                  5118\n",
              "Name: Code, dtype: int64"
            ]
          },
          "metadata": {
            "tags": []
          },
          "execution_count": 15
        }
      ]
    },
    {
      "cell_type": "code",
      "metadata": {
        "id": "yJ4qX0nN7W-r",
        "colab": {
          "base_uri": "https://localhost:8080/",
          "height": 482
        },
        "outputId": "863a79fc-c286-4bf1-a3f6-aa184b9d63b4"
      },
      "source": [
        "#chart showing the ownership of hospitals in Kenya\n",
        "plt.figure(figsize=(10,8))\n",
        "df['Owner type'].value_counts().plot(kind= 'pie', autopct='%.1f%%')"
      ],
      "execution_count": null,
      "outputs": [
        {
          "output_type": "execute_result",
          "data": {
            "text/plain": [
              "<matplotlib.axes._subplots.AxesSubplot at 0x7fba50f5b3d0>"
            ]
          },
          "metadata": {
            "tags": []
          },
          "execution_count": 16
        },
        {
          "output_type": "display_data",
          "data": {
            "image/png": "[encoded data removed]",
            "text/plain": [
              "<Figure size 720x576 with 1 Axes>"
            ]
          },
          "metadata": {
            "tags": []
          }
        }
      ]
    },
    {
      "cell_type": "code",
      "metadata": {
        "id": "-ststPAZrS85",
        "colab": {
          "base_uri": "https://localhost:8080/"
        },
        "outputId": "6f142911-855b-4c7e-fcb0-051a9bc25fb2"
      },
      "source": [
        "# Operational Status how many are Fully Functional how many are Not\n",
        "df.groupby('Operation status').count()['Code']"
      ],
      "execution_count": null,
      "outputs": [
        {
          "output_type": "execute_result",
          "data": {
            "text/plain": [
              "Operation status\n",
              "Operational    12394\n",
              "Name: Code, dtype: int64"
            ]
          },
          "metadata": {
            "tags": []
          },
          "execution_count": 17
        }
      ]
    },
    {
      "cell_type": "code",
      "metadata": {
        "id": "Rcy1Me59qhGG",
        "colab": {
          "base_uri": "https://localhost:8080/"
        },
        "outputId": "e747099e-f6be-41c5-abd1-f8c152dff441"
      },
      "source": [
        "# Bed number of beds and cots per county in descending order\n",
        "df.groupby('County').sum()['Beds and Cots'].sort_values(ascending =False)\n",
        "\n",
        "# Nairobi is the county with the highest number of beds at 1005\n",
        "# Lamu is the County with the least number of beds with 56 beds"
      ],
      "execution_count": null,
      "outputs": [
        {
          "output_type": "execute_result",
          "data": {
            "text/plain": [
              "County\n",
              "Nairobi            10728\n",
              "Kiambu              4362\n",
              "Nakuru              3587\n",
              "Kisii               3389\n",
              "Kisumu              3238\n",
              "Migori              3000\n",
              "Machakos            2825\n",
              "Kakamega            2805\n",
              "Uasin Gishu         2455\n",
              "Meru                2444\n",
              "Nyeri               2362\n",
              "Homa Bay            2193\n",
              "Bungoma             2178\n",
              "Mombasa             2076\n",
              "Kericho             1947\n",
              "Embu                1906\n",
              "Kitui               1770\n",
              "Kirinyaga           1694\n",
              "Makueni             1620\n",
              "Siaya               1614\n",
              "Kajiado             1609\n",
              "Busia               1435\n",
              "Mandera             1323\n",
              "Narok               1311\n",
              "Nyamira             1253\n",
              "Kilifi              1131\n",
              "Muranga             1108\n",
              "Tharaka Nithi       1074\n",
              "Vihiga              1002\n",
              "Bomet                999\n",
              "Turkana              996\n",
              "Nandi                984\n",
              "Trans Nzoia          978\n",
              "Garissa              951\n",
              "Laikipia             909\n",
              "Elgeyo Marakwet      899\n",
              "Baringo              880\n",
              "Isiolo               846\n",
              "Marsabit             710\n",
              "Wajir                681\n",
              "Nyandarua            677\n",
              "Samburu              635\n",
              "West Pokot           580\n",
              "Kwale                571\n",
              "Taita Taveta         475\n",
              "Tana River           328\n",
              "Lamu                 256\n",
              "Name: Beds and Cots, dtype: int64"
            ]
          },
          "metadata": {
            "tags": []
          },
          "execution_count": 18
        }
      ]
    },
    {
      "cell_type": "code",
      "metadata": {
        "id": "mpwvCUIes5vb",
        "colab": {
          "base_uri": "https://localhost:8080/"
        },
        "outputId": "71c21695-b807-40ff-b5ba-9cb73f43ebc9"
      },
      "source": [
        "# Distribution of health facilities across counties by level\n",
        "df.groupby(['Keph level', 'County'])['Keph level'].count()"
      ],
      "execution_count": null,
      "outputs": [
        {
          "output_type": "execute_result",
          "data": {
            "text/plain": [
              "Keph level  County         \n",
              "Level 2     Baringo            208\n",
              "            Bomet              145\n",
              "            Bungoma            182\n",
              "            Busia              118\n",
              "            Elgeyo Marakwet     95\n",
              "                              ... \n",
              "Level 5     Trans Nzoia          1\n",
              "Level 6     Nairobi              4\n",
              "            Nyeri                1\n",
              "            Uasin Gishu          1\n",
              "None        Kisumu               1\n",
              "Name: Keph level, Length: 159, dtype: int64"
            ]
          },
          "metadata": {
            "tags": []
          },
          "execution_count": 19
        }
      ]
    },
    {
      "cell_type": "code",
      "metadata": {
        "id": "60d2XnHh5cfM",
        "colab": {
          "base_uri": "https://localhost:8080/",
          "height": 391
        },
        "outputId": "0b13ff06-76fd-450f-957b-a66d456a3dd4"
      },
      "source": [
        "#graph for hospital levels\n",
        "df['Keph level'].hist(bins=6, grid=False, figsize=(7,6))\n"
      ],
      "execution_count": null,
      "outputs": [
        {
          "output_type": "execute_result",
          "data": {
            "text/plain": [
              "<matplotlib.axes._subplots.AxesSubplot at 0x7fba4f898710>"
            ]
          },
          "metadata": {
            "tags": []
          },
          "execution_count": 20
        },
        {
          "output_type": "display_data",
          "data": {
            "image/png": "[encoded data removed]",
            "text/plain": [
              "<Figure size 504x432 with 1 Axes>"
            ]
          },
          "metadata": {
            "tags": [],
            "needs_background": "light"
          }
        }
      ]
    },
    {
      "cell_type": "code",
      "metadata": {
        "id": "KkknHwqe-gjl",
        "colab": {
          "base_uri": "https://localhost:8080/"
        },
        "outputId": "4b9aee56-2754-4327-f1e2-abd6d9ac1b37"
      },
      "source": [
        "#Find the number of cots in kenya by county\n",
        "df.groupby('County').sum()['Cots'].sort_values(ascending =False)\n"
      ],
      "execution_count": null,
      "outputs": [
        {
          "output_type": "execute_result",
          "data": {
            "text/plain": [
              "County\n",
              "Nairobi            1185\n",
              "Kiambu              494\n",
              "Nakuru              443\n",
              "Machakos            362\n",
              "Kakamega            316\n",
              "Kisumu              282\n",
              "Kisii               281\n",
              "Makueni             274\n",
              "Mombasa             247\n",
              "Meru                205\n",
              "Uasin Gishu         204\n",
              "Migori              204\n",
              "Kitui               193\n",
              "Nyeri               187\n",
              "Embu                186\n",
              "Homa Bay            182\n",
              "Kajiado             160\n",
              "Isiolo              152\n",
              "Bomet               150\n",
              "Narok               145\n",
              "Bungoma             140\n",
              "Siaya               139\n",
              "Mandera             124\n",
              "Vihiga              123\n",
              "Busia               121\n",
              "Nyamira             120\n",
              "Kilifi              115\n",
              "Muranga             111\n",
              "Trans Nzoia          95\n",
              "Turkana              95\n",
              "Garissa              87\n",
              "Kirinyaga            86\n",
              "Laikipia             85\n",
              "Nyandarua            83\n",
              "Kericho              82\n",
              "Wajir                80\n",
              "Marsabit             71\n",
              "Baringo              60\n",
              "Nandi                58\n",
              "Tharaka Nithi        58\n",
              "Kwale                50\n",
              "Samburu              45\n",
              "Elgeyo Marakwet      41\n",
              "Taita Taveta         32\n",
              "Lamu                 23\n",
              "West Pokot           23\n",
              "Tana River            7\n",
              "Name: Cots, dtype: int64"
            ]
          },
          "metadata": {
            "tags": []
          },
          "execution_count": 21
        }
      ]
    },
    {
      "cell_type": "code",
      "metadata": {
        "id": "HEHedelkvTP6",
        "colab": {
          "base_uri": "https://localhost:8080/"
        },
        "outputId": "6d3f61e3-af3e-4106-c8cd-8f3dcbaf0358"
      },
      "source": [
        "df.columns"
      ],
      "execution_count": null,
      "outputs": [
        {
          "output_type": "execute_result",
          "data": {
            "text/plain": [
              "Index(['Code', 'Name', 'Officialname', 'Registration_number', 'Keph level',\n",
              "       'Facility type', 'Facility_type_category', 'Owner', 'Owner type',\n",
              "       'Regulatory body', 'Beds', 'Cots', 'Beds and Cots', 'County',\n",
              "       'Constituency', 'Sub county', 'Ward', 'Operation status',\n",
              "       'Open_whole_day', 'Open_public_holidays', 'Open_weekends',\n",
              "       'Open_late_night', 'Service_names', 'Approved', 'Public visible',\n",
              "       'Closed'],\n",
              "      dtype='object')"
            ]
          },
          "metadata": {
            "tags": []
          },
          "execution_count": 22
        }
      ]
    },
    {
      "cell_type": "code",
      "metadata": {
        "id": "YzPPu_mGs64b",
        "colab": {
          "base_uri": "https://localhost:8080/"
        },
        "outputId": "066f3b30-897e-4b2a-b92d-513f905cd5ec"
      },
      "source": [
        "#Distribution of healthcare workers by county across the country\n",
        "staff_id=staff_df.sort_values(['Core health workforce per 10,000\\rpopulation']).ascending =False\n",
        "staff_id"
      ],
      "execution_count": null,
      "outputs": [
        {
          "output_type": "execute_result",
          "data": {
            "text/plain": [
              "False"
            ]
          },
          "metadata": {
            "tags": []
          },
          "execution_count": 23
        }
      ]
    },
    {
      "cell_type": "markdown",
      "metadata": {
        "id": "wMnaivYElx6P"
      },
      "source": [
        "# world Standards for healthcare in comparison to Kenya in order to identify gaps and come up with recommendations\n"
      ]
    },
    {
      "cell_type": "code",
      "metadata": {
        "id": "JFIipK8O2MCf",
        "colab": {
          "base_uri": "https://localhost:8080/",
          "height": 714
        },
        "outputId": "55d427b5-f944-4e33-82a4-11bcc4549682"
      },
      "source": [
        "#comparing the amount spent on healthcare in kenya to other country standards\n",
        "\n",
        "plt.figure(figsize=(16,12))\n",
        "sns.barplot(x='2018yr', y='Country Name', data=gdp_health)\n",
        "plt.show()\n",
        "#we can see that our country should atleast increase the amount of spending of the GDP to health care upto atleast 8% to match up with a country like South Africa."
      ],
      "execution_count": null,
      "outputs": [
        {
          "output_type": "display_data",
          "data": {
            "image/png": "[encoded data removed]",
            "text/plain": [
              "<Figure size 1152x864 with 1 Axes>"
            ]
          },
          "metadata": {
            "needs_background": "light"
          }
        }
      ]
    },
    {
      "cell_type": "markdown",
      "metadata": {
        "id": "DWs0uZXC6Bnk"
      },
      "source": [
        "# Analysis to find the distribution of healthcare services and workforce in Kenya and its correlation to Economic Growth.\n"
      ]
    },
    {
      "cell_type": "code",
      "metadata": {
        "id": "AN15r9UpmrdS"
      },
      "source": [
        ""
      ],
      "execution_count": null,
      "outputs": []
    },
    {
      "cell_type": "code",
      "metadata": {
        "id": "upRWprtgEcBA",
        "colab": {
          "base_uri": "https://localhost:8080/"
        },
        "outputId": "47b81900-27b5-4a1e-fa08-271d20984b24"
      },
      "source": [
        "#Distribution of healthcare workers by county across the country\n",
        "\n",
        "staff_df= pd.read_csv(\"/content/Health staff (2).csv\")\n",
        "staff_df.sort_values(staff_df.columns[1], axis=0, inplace=True)\n",
        "print(\"\\nAfter sorting:\")\n",
        "print(staff_df)"
      ],
      "execution_count": null,
      "outputs": [
        {
          "output_type": "stream",
          "text": [
            "\n",
            "After sorting:\n",
            "             County  Core health workforce per 10,000\\rpopulation\n",
            "23          Mandera                                           5.2\n",
            "45            Wajir                                           6.1\n",
            "32            Narok                                           6.1\n",
            "39       Tana River                                           7.2\n",
            "42          Turkana                                           7.4\n",
            "41      Trans nzoia                                           7.5\n",
            "18            Kwale                                           8.0\n",
            "2           Bungoma                                           8.5\n",
            "31            Nandi                                           8.8\n",
            "1             Bomet                                           8.9\n",
            "28         Murang’a                                           9.3\n",
            "46       West pokot                                           9.3\n",
            "4   Elgeyo-marakwet                                           9.9\n",
            "10         Kakamega                                           9.9\n",
            "6           Garissa                                          10.0\n",
            "13           Kilifi                                          10.0\n",
            "0           Baringo                                          10.6\n",
            "36          Samburu                                          11.3\n",
            "26           Migori                                          11.3\n",
            "34        Nyandarua                                          11.6\n",
            "3             Busia                                          11.9\n",
            "44           Vihiga                                          12.2\n",
            "22          Makueni                                          13.2\n",
            "24         Marsabit                                          13.5\n",
            "15            Kisii                                          13.6\n",
            "37            Siaya                                          13.7\n",
            "33          Nyamira                                          14.1\n",
            "7          Homa bay                                          14.2\n",
            "17            Kitui                                          14.9\n",
            "47            Total                                          15.6\n",
            "11          Kericho                                          16.2\n",
            "19         Laikipia                                          16.5\n",
            "21         Machakos                                          18.2\n",
            "25             Meru                                          18.6\n",
            "38     Taita-Taveta                                          19.1\n",
            "27          Mombasa                                          19.2\n",
            "30           Nakuru                                          19.3\n",
            "5              Embu                                          21.2\n",
            "8            Isiolo                                          22.0\n",
            "14        Kirinyaga                                          22.3\n",
            "16           Kisumu                                          22.6\n",
            "12           Kiambu                                          22.8\n",
            "20             Lamu                                          24.6\n",
            "9           Kajiado                                          24.6\n",
            "29          Nairobi                                          26.3\n",
            "43      Uasin gishu                                          28.2\n",
            "35            Nyeri                                          31.0\n",
            "40    Tharaka-nithi                                          33.8\n"
          ],
          "name": "stdout"
        }
      ]
    },
    {
      "cell_type": "code",
      "metadata": {
        "colab": {
          "base_uri": "https://localhost:8080/"
        },
        "id": "DTb-LtVPqmrn",
        "outputId": "e330f31c-b151-4659-824c-8ab4323af0cc"
      },
      "source": [
        "# Average number in the whole country per 10,000 people\n",
        "staff_df.mean()\n",
        "avgstaff=staff_df[\"Core health workforce per 10,000\\rpopulation\"].mean()\n",
        "print('The average number of health workers per 10,000 people is:',avgstaff)"
      ],
      "execution_count": null,
      "outputs": [
        {
          "output_type": "stream",
          "text": [
            "The average number of health workers per 10,000 people is: 15.00625\n"
          ],
          "name": "stdout"
        }
      ]
    },
    {
      "cell_type": "code",
      "metadata": {
        "colab": {
          "base_uri": "https://localhost:8080/",
          "height": 782
        },
        "id": "50OMmYActSEy",
        "outputId": "eab0d856-ffd7-405a-89a0-dc7bde3e5798"
      },
      "source": [
        "# distribution per county of healthcare workers per 10,000 people\n",
        "plt.figure(figsize=(16,12))\n",
        "sns.barplot(x='Core health workforce per 10,000\\rpopulation', y='County', data=staff_df)\n",
        "plt.show()"
      ],
      "execution_count": null,
      "outputs": [
        {
          "output_type": "stream",
          "text": [
            "/usr/local/lib/python3.7/dist-packages/matplotlib/backends/backend_agg.py:214: RuntimeWarning: Glyph 13 missing from current font.\n",
            "  font.set_text(s, 0.0, flags=flags)\n",
            "/usr/local/lib/python3.7/dist-packages/matplotlib/backends/backend_agg.py:183: RuntimeWarning: Glyph 13 missing from current font.\n",
            "  font.set_text(s, 0, flags=flags)\n"
          ],
          "name": "stderr"
        },
        {
          "output_type": "display_data",
          "data": {
            "image/png": "[encoded data removed]",
            "text/plain": [
              "<Figure size 1152x864 with 1 Axes>"
            ]
          },
          "metadata": {
            "tags": [],
            "needs_background": "light"
          }
        }
      ]
    },
    {
      "cell_type": "markdown",
      "metadata": {
        "id": "jGttm_9LtRfI"
      },
      "source": [
        "# To find the relationship between Healthcare expenditure and Economic performance\n"
      ]
    },
    {
      "cell_type": "code",
      "metadata": {
        "id": "eMCxjqHyMsir"
      },
      "source": [
        ""
      ],
      "execution_count": null,
      "outputs": []
    },
    {
      "cell_type": "code",
      "metadata": {
        "colab": {
          "base_uri": "https://localhost:8080/",
          "height": 725
        },
        "id": "cds0nyO6aq33",
        "outputId": "636d0ed9-b5a2-4a15-ab36-690d4c99101d"
      },
      "source": [
        "#a graph showing the gdp over the period of 2000 to 2018\n",
        "plt.figure(figsize=(16,12))\n",
        "sns.barplot(x='Year', y='Real GDP prices Ksh Million', data=our_gdp)\n",
        "plt.show()"
      ],
      "execution_count": null,
      "outputs": [
        {
          "output_type": "display_data",
          "data": {
            "image/png": "[encoded data removed]",
            "text/plain": [
              "<Figure size 1152x864 with 1 Axes>"
            ]
          },
          "metadata": {
            "needs_background": "light"
          }
        }
      ]
    },
    {
      "cell_type": "code",
      "metadata": {
        "colab": {
          "base_uri": "https://localhost:8080/",
          "height": 638
        },
        "id": "cqcow8-ppfan",
        "outputId": "0b5e7e25-1f98-487d-f087-c0f615c41234"
      },
      "source": [
        "#loading dataset for allocation of health budget in Kenya \n",
        "ke_allocation = pd.read_excel(\"/content/kenyan_allocation_to_health_per_year.xlsx\")\n",
        "ke_allocation\n"
      ],
      "execution_count": 150,
      "outputs": [
        {
          "output_type": "execute_result",
          "data": {
            "text/html": [
              "<div>\n",
              "<style scoped>\n",
              "    .dataframe tbody tr th:only-of-type {\n",
              "        vertical-align: middle;\n",
              "    }\n",
              "\n",
              "    .dataframe tbody tr th {\n",
              "        vertical-align: top;\n",
              "    }\n",
              "\n",
              "    .dataframe thead th {\n",
              "        text-align: right;\n",
              "    }\n",
              "</style>\n",
              "<table border=\"1\" class=\"dataframe\">\n",
              "  <thead>\n",
              "    <tr style=\"text-align: right;\">\n",
              "      <th></th>\n",
              "      <th>Year</th>\n",
              "      <th>Current health expenditure (% of GDP)</th>\n",
              "    </tr>\n",
              "  </thead>\n",
              "  <tbody>\n",
              "    <tr>\n",
              "      <th>0</th>\n",
              "      <td>2000</td>\n",
              "      <td>4.639261</td>\n",
              "    </tr>\n",
              "    <tr>\n",
              "      <th>1</th>\n",
              "      <td>2001</td>\n",
              "      <td>4.803683</td>\n",
              "    </tr>\n",
              "    <tr>\n",
              "      <th>2</th>\n",
              "      <td>2002</td>\n",
              "      <td>4.958624</td>\n",
              "    </tr>\n",
              "    <tr>\n",
              "      <th>3</th>\n",
              "      <td>2003</td>\n",
              "      <td>5.169111</td>\n",
              "    </tr>\n",
              "    <tr>\n",
              "      <th>4</th>\n",
              "      <td>2004</td>\n",
              "      <td>5.344938</td>\n",
              "    </tr>\n",
              "    <tr>\n",
              "      <th>5</th>\n",
              "      <td>2005</td>\n",
              "      <td>5.314368</td>\n",
              "    </tr>\n",
              "    <tr>\n",
              "      <th>6</th>\n",
              "      <td>2006</td>\n",
              "      <td>5.873446</td>\n",
              "    </tr>\n",
              "    <tr>\n",
              "      <th>7</th>\n",
              "      <td>2007</td>\n",
              "      <td>5.997070</td>\n",
              "    </tr>\n",
              "    <tr>\n",
              "      <th>8</th>\n",
              "      <td>2008</td>\n",
              "      <td>6.049857</td>\n",
              "    </tr>\n",
              "    <tr>\n",
              "      <th>9</th>\n",
              "      <td>2009</td>\n",
              "      <td>6.027808</td>\n",
              "    </tr>\n",
              "    <tr>\n",
              "      <th>10</th>\n",
              "      <td>2010</td>\n",
              "      <td>6.116751</td>\n",
              "    </tr>\n",
              "    <tr>\n",
              "      <th>11</th>\n",
              "      <td>2011</td>\n",
              "      <td>5.811704</td>\n",
              "    </tr>\n",
              "    <tr>\n",
              "      <th>12</th>\n",
              "      <td>2012</td>\n",
              "      <td>5.613698</td>\n",
              "    </tr>\n",
              "    <tr>\n",
              "      <th>13</th>\n",
              "      <td>2013</td>\n",
              "      <td>5.519423</td>\n",
              "    </tr>\n",
              "    <tr>\n",
              "      <th>14</th>\n",
              "      <td>2014</td>\n",
              "      <td>5.459341</td>\n",
              "    </tr>\n",
              "    <tr>\n",
              "      <th>15</th>\n",
              "      <td>2015</td>\n",
              "      <td>5.219388</td>\n",
              "    </tr>\n",
              "    <tr>\n",
              "      <th>16</th>\n",
              "      <td>2016</td>\n",
              "      <td>5.140905</td>\n",
              "    </tr>\n",
              "    <tr>\n",
              "      <th>17</th>\n",
              "      <td>2017</td>\n",
              "      <td>5.140905</td>\n",
              "    </tr>\n",
              "    <tr>\n",
              "      <th>18</th>\n",
              "      <td>2018</td>\n",
              "      <td>5.167295</td>\n",
              "    </tr>\n",
              "  </tbody>\n",
              "</table>\n",
              "</div>"
            ],
            "text/plain": [
              "    Year  Current health expenditure (% of GDP)\n",
              "0   2000                               4.639261\n",
              "1   2001                               4.803683\n",
              "2   2002                               4.958624\n",
              "3   2003                               5.169111\n",
              "4   2004                               5.344938\n",
              "5   2005                               5.314368\n",
              "6   2006                               5.873446\n",
              "7   2007                               5.997070\n",
              "8   2008                               6.049857\n",
              "9   2009                               6.027808\n",
              "10  2010                               6.116751\n",
              "11  2011                               5.811704\n",
              "12  2012                               5.613698\n",
              "13  2013                               5.519423\n",
              "14  2014                               5.459341\n",
              "15  2015                               5.219388\n",
              "16  2016                               5.140905\n",
              "17  2017                               5.140905\n",
              "18  2018                               5.167295"
            ]
          },
          "metadata": {},
          "execution_count": 150
        }
      ]
    },
    {
      "cell_type": "code",
      "metadata": {
        "colab": {
          "base_uri": "https://localhost:8080/",
          "height": 714
        },
        "id": "myVR7zUYphsP",
        "outputId": "3a788361-9817-44b8-fb98-1df6c3610f83"
      },
      "source": [
        "#showing the trend of the health care expenditure as a percentage of the GDP from the year 2000 to the year 2018\n",
        "plt.figure(figsize=(16,12))\n",
        "sns.barplot(x='Year', y='Current health expenditure (% of GDP)', data=ke_allocation)\n",
        "plt.show()"
      ],
      "execution_count": 152,
      "outputs": [
        {
          "output_type": "display_data",
          "data": {
            "image/png": "[encoded data removed]",
            "text/plain": [
              "<Figure size 1152x864 with 1 Axes>"
            ]
          },
          "metadata": {
            "needs_background": "light"
          }
        }
      ]
    },
    {
      "cell_type": "code",
      "metadata": {
        "id": "SwveiyDjqLKX"
      },
      "source": [
        "# from the annual comparison above we  can see a rise in the GDP as well as an increase of the health budget allocation upto the year 2010. \n",
        "#From 2010 regardless the growth in the GDP the health allocation has been reducing till the last year recorded of 2018"
      ],
      "execution_count": 153,
      "outputs": []
    },
    {
      "cell_type": "code",
      "metadata": {
        "id": "2TylElxZuRFN"
      },
      "source": [
        ""
      ],
      "execution_count": null,
      "outputs": []
    }
  ]
}